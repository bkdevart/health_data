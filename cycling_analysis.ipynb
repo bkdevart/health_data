{
 "cells": [
  {
   "cell_type": "code",
   "execution_count": 4,
   "metadata": {},
   "outputs": [
    {
     "data": {
      "text/html": [
       "<div>\n",
       "<style scoped>\n",
       "    .dataframe tbody tr th:only-of-type {\n",
       "        vertical-align: middle;\n",
       "    }\n",
       "\n",
       "    .dataframe tbody tr th {\n",
       "        vertical-align: top;\n",
       "    }\n",
       "\n",
       "    .dataframe thead th {\n",
       "        text-align: right;\n",
       "    }\n",
       "</style>\n",
       "<table border=\"1\" class=\"dataframe\">\n",
       "  <thead>\n",
       "    <tr style=\"text-align: right;\">\n",
       "      <th></th>\n",
       "      <th>sourceVersion</th>\n",
       "      <th>creationDate</th>\n",
       "      <th>startDate</th>\n",
       "      <th>endDate</th>\n",
       "      <th>miles</th>\n",
       "    </tr>\n",
       "  </thead>\n",
       "  <tbody>\n",
       "    <tr>\n",
       "      <th>0</th>\n",
       "      <td>NaN</td>\n",
       "      <td>2015-05-24 07:52:21-07:00</td>\n",
       "      <td>2015-05-24 07:52:09-07:00</td>\n",
       "      <td>2015-05-24 07:52:21-07:00</td>\n",
       "      <td>0.000446</td>\n",
       "    </tr>\n",
       "    <tr>\n",
       "      <th>1</th>\n",
       "      <td>NaN</td>\n",
       "      <td>2015-05-24 07:52:27-07:00</td>\n",
       "      <td>2015-05-24 07:52:21-07:00</td>\n",
       "      <td>2015-05-24 07:52:27-07:00</td>\n",
       "      <td>0.000634</td>\n",
       "    </tr>\n",
       "    <tr>\n",
       "      <th>2</th>\n",
       "      <td>NaN</td>\n",
       "      <td>2015-05-24 07:52:33-07:00</td>\n",
       "      <td>2015-05-24 07:52:27-07:00</td>\n",
       "      <td>2015-05-24 07:52:33-07:00</td>\n",
       "      <td>0.000631</td>\n",
       "    </tr>\n",
       "    <tr>\n",
       "      <th>3</th>\n",
       "      <td>NaN</td>\n",
       "      <td>2015-05-24 07:52:38-07:00</td>\n",
       "      <td>2015-05-24 07:52:33-07:00</td>\n",
       "      <td>2015-05-24 07:52:38-07:00</td>\n",
       "      <td>0.000784</td>\n",
       "    </tr>\n",
       "    <tr>\n",
       "      <th>4</th>\n",
       "      <td>NaN</td>\n",
       "      <td>2015-05-24 07:52:44-07:00</td>\n",
       "      <td>2015-05-24 07:52:38-07:00</td>\n",
       "      <td>2015-05-24 07:52:44-07:00</td>\n",
       "      <td>0.001128</td>\n",
       "    </tr>\n",
       "  </tbody>\n",
       "</table>\n",
       "</div>"
      ],
      "text/plain": [
       "  sourceVersion               creationDate                  startDate  \\\n",
       "0           NaN  2015-05-24 07:52:21-07:00  2015-05-24 07:52:09-07:00   \n",
       "1           NaN  2015-05-24 07:52:27-07:00  2015-05-24 07:52:21-07:00   \n",
       "2           NaN  2015-05-24 07:52:33-07:00  2015-05-24 07:52:27-07:00   \n",
       "3           NaN  2015-05-24 07:52:38-07:00  2015-05-24 07:52:33-07:00   \n",
       "4           NaN  2015-05-24 07:52:44-07:00  2015-05-24 07:52:38-07:00   \n",
       "\n",
       "                     endDate     miles  \n",
       "0  2015-05-24 07:52:21-07:00  0.000446  \n",
       "1  2015-05-24 07:52:27-07:00  0.000634  \n",
       "2  2015-05-24 07:52:33-07:00  0.000631  \n",
       "3  2015-05-24 07:52:38-07:00  0.000784  \n",
       "4  2015-05-24 07:52:44-07:00  0.001128  "
      ]
     },
     "execution_count": 4,
     "metadata": {},
     "output_type": "execute_result"
    }
   ],
   "source": [
    "import pandas as pd\n",
    "\n",
    "df = pd.read_csv('cleaned_data/cycling.csv')\n",
    "df.head()"
   ]
  },
  {
   "cell_type": "markdown",
   "metadata": {},
   "source": [
    "# Initial Cycling Analysis\n",
    "\n",
    "## Daily totals\n",
    "\n",
    "- Sum up miles by `startDate` day\n",
    "- Calculate differences in time between startDate/endDate, place in new column as seconds\n",
    "- Calculate daily total seconds"
   ]
  },
  {
   "cell_type": "markdown",
   "metadata": {},
   "source": []
  }
 ],
 "metadata": {
  "kernelspec": {
   "display_name": "dev",
   "language": "python",
   "name": "python3"
  },
  "language_info": {
   "codemirror_mode": {
    "name": "ipython",
    "version": 3
   },
   "file_extension": ".py",
   "mimetype": "text/x-python",
   "name": "python",
   "nbconvert_exporter": "python",
   "pygments_lexer": "ipython3",
   "version": "3.10.12"
  }
 },
 "nbformat": 4,
 "nbformat_minor": 2
}
