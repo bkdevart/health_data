{
 "cells": [
  {
   "cell_type": "code",
   "execution_count": 57,
   "metadata": {},
   "outputs": [
    {
     "data": {
      "text/html": [
       "<div>\n",
       "<style scoped>\n",
       "    .dataframe tbody tr th:only-of-type {\n",
       "        vertical-align: middle;\n",
       "    }\n",
       "\n",
       "    .dataframe tbody tr th {\n",
       "        vertical-align: top;\n",
       "    }\n",
       "\n",
       "    .dataframe thead th {\n",
       "        text-align: right;\n",
       "    }\n",
       "</style>\n",
       "<table border=\"1\" class=\"dataframe\">\n",
       "  <thead>\n",
       "    <tr style=\"text-align: right;\">\n",
       "      <th></th>\n",
       "      <th>sourceVersion</th>\n",
       "      <th>creationDate</th>\n",
       "      <th>startDate</th>\n",
       "      <th>endDate</th>\n",
       "      <th>miles</th>\n",
       "    </tr>\n",
       "  </thead>\n",
       "  <tbody>\n",
       "    <tr>\n",
       "      <th>0</th>\n",
       "      <td>NaN</td>\n",
       "      <td>2015-05-24 07:52:21-07:00</td>\n",
       "      <td>2015-05-24 07:52:09-07:00</td>\n",
       "      <td>2015-05-24 07:52:21-07:00</td>\n",
       "      <td>0.000446</td>\n",
       "    </tr>\n",
       "    <tr>\n",
       "      <th>1</th>\n",
       "      <td>NaN</td>\n",
       "      <td>2015-05-24 07:52:27-07:00</td>\n",
       "      <td>2015-05-24 07:52:21-07:00</td>\n",
       "      <td>2015-05-24 07:52:27-07:00</td>\n",
       "      <td>0.000634</td>\n",
       "    </tr>\n",
       "    <tr>\n",
       "      <th>2</th>\n",
       "      <td>NaN</td>\n",
       "      <td>2015-05-24 07:52:33-07:00</td>\n",
       "      <td>2015-05-24 07:52:27-07:00</td>\n",
       "      <td>2015-05-24 07:52:33-07:00</td>\n",
       "      <td>0.000631</td>\n",
       "    </tr>\n",
       "    <tr>\n",
       "      <th>3</th>\n",
       "      <td>NaN</td>\n",
       "      <td>2015-05-24 07:52:38-07:00</td>\n",
       "      <td>2015-05-24 07:52:33-07:00</td>\n",
       "      <td>2015-05-24 07:52:38-07:00</td>\n",
       "      <td>0.000784</td>\n",
       "    </tr>\n",
       "    <tr>\n",
       "      <th>4</th>\n",
       "      <td>NaN</td>\n",
       "      <td>2015-05-24 07:52:44-07:00</td>\n",
       "      <td>2015-05-24 07:52:38-07:00</td>\n",
       "      <td>2015-05-24 07:52:44-07:00</td>\n",
       "      <td>0.001128</td>\n",
       "    </tr>\n",
       "  </tbody>\n",
       "</table>\n",
       "</div>"
      ],
      "text/plain": [
       "  sourceVersion              creationDate                 startDate  \\\n",
       "0           NaN 2015-05-24 07:52:21-07:00 2015-05-24 07:52:09-07:00   \n",
       "1           NaN 2015-05-24 07:52:27-07:00 2015-05-24 07:52:21-07:00   \n",
       "2           NaN 2015-05-24 07:52:33-07:00 2015-05-24 07:52:27-07:00   \n",
       "3           NaN 2015-05-24 07:52:38-07:00 2015-05-24 07:52:33-07:00   \n",
       "4           NaN 2015-05-24 07:52:44-07:00 2015-05-24 07:52:38-07:00   \n",
       "\n",
       "                    endDate     miles  \n",
       "0 2015-05-24 07:52:21-07:00  0.000446  \n",
       "1 2015-05-24 07:52:27-07:00  0.000634  \n",
       "2 2015-05-24 07:52:33-07:00  0.000631  \n",
       "3 2015-05-24 07:52:38-07:00  0.000784  \n",
       "4 2015-05-24 07:52:44-07:00  0.001128  "
      ]
     },
     "execution_count": 57,
     "metadata": {},
     "output_type": "execute_result"
    }
   ],
   "source": [
    "import datetime as dt\n",
    "import pandas as pd\n",
    "\n",
    "df = pd.read_csv('cleaned_data/cycling.csv', parse_dates=['creationDate', 'startDate', 'endDate'])\n",
    "df.head()"
   ]
  },
  {
   "cell_type": "markdown",
   "metadata": {},
   "source": [
    "# Initial Cycling Analysis\n",
    "\n",
    "## Daily totals\n",
    "\n",
    "- Sum up miles by `startDate` day\n",
    "- Calculate differences in time between startDate/endDate, place in new column as seconds\n",
    "- Calculate daily total seconds"
   ]
  },
  {
   "cell_type": "code",
   "execution_count": 34,
   "metadata": {},
   "outputs": [
    {
     "name": "stdout",
     "output_type": "stream",
     "text": [
      "<class 'pandas.core.frame.DataFrame'>\n",
      "RangeIndex: 166961 entries, 0 to 166960\n",
      "Data columns (total 5 columns):\n",
      " #   Column         Non-Null Count   Dtype                    \n",
      "---  ------         --------------   -----                    \n",
      " 0   sourceVersion  149705 non-null  object                   \n",
      " 1   creationDate   166961 non-null  datetime64[ns, UTC-07:00]\n",
      " 2   startDate      166961 non-null  datetime64[ns, UTC-07:00]\n",
      " 3   endDate        166961 non-null  datetime64[ns, UTC-07:00]\n",
      " 4   miles          166961 non-null  float64                  \n",
      "dtypes: datetime64[ns, UTC-07:00](3), float64(1), object(1)\n",
      "memory usage: 6.4+ MB\n"
     ]
    }
   ],
   "source": [
    "df.info()"
   ]
  },
  {
   "cell_type": "code",
   "execution_count": 35,
   "metadata": {},
   "outputs": [
    {
     "name": "stdout",
     "output_type": "stream",
     "text": [
      "<class 'pandas.core.frame.DataFrame'>\n",
      "RangeIndex: 166961 entries, 0 to 166960\n",
      "Data columns (total 6 columns):\n",
      " #   Column         Non-Null Count   Dtype                    \n",
      "---  ------         --------------   -----                    \n",
      " 0   sourceVersion  149705 non-null  object                   \n",
      " 1   creationDate   166961 non-null  datetime64[ns, UTC-07:00]\n",
      " 2   startDate      166961 non-null  datetime64[ns, UTC-07:00]\n",
      " 3   endDate        166961 non-null  datetime64[ns, UTC-07:00]\n",
      " 4   miles          166961 non-null  float64                  \n",
      " 5   seconds        166961 non-null  float64                  \n",
      "dtypes: datetime64[ns, UTC-07:00](3), float64(2), object(1)\n",
      "memory usage: 7.6+ MB\n"
     ]
    }
   ],
   "source": [
    "df['seconds'] = (df['endDate'] - df['startDate']).dt.total_seconds()\n",
    "df.info()"
   ]
  },
  {
   "cell_type": "code",
   "execution_count": 36,
   "metadata": {},
   "outputs": [
    {
     "data": {
      "text/plain": [
       "count    166961.000000\n",
       "mean          3.704152\n",
       "std          28.570681\n",
       "min           0.000000\n",
       "25%           1.000000\n",
       "50%           1.000000\n",
       "75%           1.000000\n",
       "max        4647.000000\n",
       "Name: seconds, dtype: float64"
      ]
     },
     "execution_count": 36,
     "metadata": {},
     "output_type": "execute_result"
    }
   ],
   "source": [
    "df.seconds.describe()"
   ]
  },
  {
   "cell_type": "code",
   "execution_count": 37,
   "metadata": {},
   "outputs": [
    {
     "data": {
      "text/html": [
       "<div>\n",
       "<style scoped>\n",
       "    .dataframe tbody tr th:only-of-type {\n",
       "        vertical-align: middle;\n",
       "    }\n",
       "\n",
       "    .dataframe tbody tr th {\n",
       "        vertical-align: top;\n",
       "    }\n",
       "\n",
       "    .dataframe thead th {\n",
       "        text-align: right;\n",
       "    }\n",
       "</style>\n",
       "<table border=\"1\" class=\"dataframe\">\n",
       "  <thead>\n",
       "    <tr style=\"text-align: right;\">\n",
       "      <th></th>\n",
       "      <th>sourceVersion</th>\n",
       "      <th>creationDate</th>\n",
       "      <th>startDate</th>\n",
       "      <th>endDate</th>\n",
       "      <th>miles</th>\n",
       "      <th>seconds</th>\n",
       "    </tr>\n",
       "  </thead>\n",
       "  <tbody>\n",
       "    <tr>\n",
       "      <th>0</th>\n",
       "      <td>NaN</td>\n",
       "      <td>2015-05-24 07:52:21-07:00</td>\n",
       "      <td>2015-05-24 07:52:09-07:00</td>\n",
       "      <td>2015-05-24 07:52:21-07:00</td>\n",
       "      <td>0.000446</td>\n",
       "      <td>12.0</td>\n",
       "    </tr>\n",
       "    <tr>\n",
       "      <th>1</th>\n",
       "      <td>NaN</td>\n",
       "      <td>2015-05-24 07:52:27-07:00</td>\n",
       "      <td>2015-05-24 07:52:21-07:00</td>\n",
       "      <td>2015-05-24 07:52:27-07:00</td>\n",
       "      <td>0.000634</td>\n",
       "      <td>6.0</td>\n",
       "    </tr>\n",
       "    <tr>\n",
       "      <th>2</th>\n",
       "      <td>NaN</td>\n",
       "      <td>2015-05-24 07:52:33-07:00</td>\n",
       "      <td>2015-05-24 07:52:27-07:00</td>\n",
       "      <td>2015-05-24 07:52:33-07:00</td>\n",
       "      <td>0.000631</td>\n",
       "      <td>6.0</td>\n",
       "    </tr>\n",
       "    <tr>\n",
       "      <th>3</th>\n",
       "      <td>NaN</td>\n",
       "      <td>2015-05-24 07:52:38-07:00</td>\n",
       "      <td>2015-05-24 07:52:33-07:00</td>\n",
       "      <td>2015-05-24 07:52:38-07:00</td>\n",
       "      <td>0.000784</td>\n",
       "      <td>5.0</td>\n",
       "    </tr>\n",
       "    <tr>\n",
       "      <th>4</th>\n",
       "      <td>NaN</td>\n",
       "      <td>2015-05-24 07:52:44-07:00</td>\n",
       "      <td>2015-05-24 07:52:38-07:00</td>\n",
       "      <td>2015-05-24 07:52:44-07:00</td>\n",
       "      <td>0.001128</td>\n",
       "      <td>6.0</td>\n",
       "    </tr>\n",
       "  </tbody>\n",
       "</table>\n",
       "</div>"
      ],
      "text/plain": [
       "  sourceVersion              creationDate                 startDate  \\\n",
       "0           NaN 2015-05-24 07:52:21-07:00 2015-05-24 07:52:09-07:00   \n",
       "1           NaN 2015-05-24 07:52:27-07:00 2015-05-24 07:52:21-07:00   \n",
       "2           NaN 2015-05-24 07:52:33-07:00 2015-05-24 07:52:27-07:00   \n",
       "3           NaN 2015-05-24 07:52:38-07:00 2015-05-24 07:52:33-07:00   \n",
       "4           NaN 2015-05-24 07:52:44-07:00 2015-05-24 07:52:38-07:00   \n",
       "\n",
       "                    endDate     miles  seconds  \n",
       "0 2015-05-24 07:52:21-07:00  0.000446     12.0  \n",
       "1 2015-05-24 07:52:27-07:00  0.000634      6.0  \n",
       "2 2015-05-24 07:52:33-07:00  0.000631      6.0  \n",
       "3 2015-05-24 07:52:38-07:00  0.000784      5.0  \n",
       "4 2015-05-24 07:52:44-07:00  0.001128      6.0  "
      ]
     },
     "execution_count": 37,
     "metadata": {},
     "output_type": "execute_result"
    }
   ],
   "source": [
    "df.head()"
   ]
  },
  {
   "cell_type": "code",
   "execution_count": 47,
   "metadata": {},
   "outputs": [
    {
     "data": {
      "text/html": [
       "<div>\n",
       "<style scoped>\n",
       "    .dataframe tbody tr th:only-of-type {\n",
       "        vertical-align: middle;\n",
       "    }\n",
       "\n",
       "    .dataframe tbody tr th {\n",
       "        vertical-align: top;\n",
       "    }\n",
       "\n",
       "    .dataframe thead th {\n",
       "        text-align: right;\n",
       "    }\n",
       "</style>\n",
       "<table border=\"1\" class=\"dataframe\">\n",
       "  <thead>\n",
       "    <tr style=\"text-align: right;\">\n",
       "      <th></th>\n",
       "      <th>startDate</th>\n",
       "      <th>miles</th>\n",
       "      <th>seconds</th>\n",
       "    </tr>\n",
       "  </thead>\n",
       "  <tbody>\n",
       "    <tr>\n",
       "      <th>0</th>\n",
       "      <td>2015-05-23</td>\n",
       "      <td>3.613076</td>\n",
       "      <td>1573.0</td>\n",
       "    </tr>\n",
       "    <tr>\n",
       "      <th>1</th>\n",
       "      <td>2015-05-24</td>\n",
       "      <td>7.174355</td>\n",
       "      <td>10320.0</td>\n",
       "    </tr>\n",
       "    <tr>\n",
       "      <th>2</th>\n",
       "      <td>2015-05-25</td>\n",
       "      <td>7.371056</td>\n",
       "      <td>3434.0</td>\n",
       "    </tr>\n",
       "    <tr>\n",
       "      <th>3</th>\n",
       "      <td>2015-05-26</td>\n",
       "      <td>6.341940</td>\n",
       "      <td>2321.0</td>\n",
       "    </tr>\n",
       "    <tr>\n",
       "      <th>4</th>\n",
       "      <td>2015-05-27</td>\n",
       "      <td>5.161332</td>\n",
       "      <td>1956.0</td>\n",
       "    </tr>\n",
       "  </tbody>\n",
       "</table>\n",
       "</div>"
      ],
      "text/plain": [
       "    startDate     miles  seconds\n",
       "0  2015-05-23  3.613076   1573.0\n",
       "1  2015-05-24  7.174355  10320.0\n",
       "2  2015-05-25  7.371056   3434.0\n",
       "3  2015-05-26  6.341940   2321.0\n",
       "4  2015-05-27  5.161332   1956.0"
      ]
     },
     "execution_count": 47,
     "metadata": {},
     "output_type": "execute_result"
    }
   ],
   "source": [
    "df_date = df.groupby(df['startDate'].dt.date)[['miles', 'seconds']].sum().reset_index()\n",
    "df_date.head()"
   ]
  },
  {
   "cell_type": "code",
   "execution_count": 49,
   "metadata": {},
   "outputs": [
    {
     "data": {
      "text/plain": [
       "<Axes: title={'center': 'Daily miles cycled'}, xlabel='startDate'>"
      ]
     },
     "execution_count": 49,
     "metadata": {},
     "output_type": "execute_result"
    },
    {
     "data": {
      "image/png": "[encoded data removed]",
      "text/plain": [
       "<Figure size 640x480 with 1 Axes>"
      ]
     },
     "metadata": {},
     "output_type": "display_data"
    }
   ],
   "source": [
    "df_date.plot(x='startDate', y='miles', title='Daily miles cycled')"
   ]
  },
  {
   "cell_type": "code",
   "execution_count": 50,
   "metadata": {},
   "outputs": [],
   "source": [
    "df_date['avg_mph'] = df_date['miles'] / (df_date['seconds'] / 3600)"
   ]
  },
  {
   "cell_type": "code",
   "execution_count": 51,
   "metadata": {},
   "outputs": [
    {
     "data": {
      "text/html": [
       "<div>\n",
       "<style scoped>\n",
       "    .dataframe tbody tr th:only-of-type {\n",
       "        vertical-align: middle;\n",
       "    }\n",
       "\n",
       "    .dataframe tbody tr th {\n",
       "        vertical-align: top;\n",
       "    }\n",
       "\n",
       "    .dataframe thead th {\n",
       "        text-align: right;\n",
       "    }\n",
       "</style>\n",
       "<table border=\"1\" class=\"dataframe\">\n",
       "  <thead>\n",
       "    <tr style=\"text-align: right;\">\n",
       "      <th></th>\n",
       "      <th>startDate</th>\n",
       "      <th>miles</th>\n",
       "      <th>seconds</th>\n",
       "      <th>avg_mph</th>\n",
       "    </tr>\n",
       "  </thead>\n",
       "  <tbody>\n",
       "    <tr>\n",
       "      <th>285</th>\n",
       "      <td>2024-07-17</td>\n",
       "      <td>10.325663</td>\n",
       "      <td>3137.0</td>\n",
       "      <td>11.849661</td>\n",
       "    </tr>\n",
       "    <tr>\n",
       "      <th>286</th>\n",
       "      <td>2024-07-18</td>\n",
       "      <td>5.051039</td>\n",
       "      <td>1677.0</td>\n",
       "      <td>10.843017</td>\n",
       "    </tr>\n",
       "    <tr>\n",
       "      <th>287</th>\n",
       "      <td>2024-07-19</td>\n",
       "      <td>5.795308</td>\n",
       "      <td>2369.0</td>\n",
       "      <td>8.806715</td>\n",
       "    </tr>\n",
       "    <tr>\n",
       "      <th>288</th>\n",
       "      <td>2024-07-21</td>\n",
       "      <td>5.849699</td>\n",
       "      <td>6583.0</td>\n",
       "      <td>3.198985</td>\n",
       "    </tr>\n",
       "    <tr>\n",
       "      <th>289</th>\n",
       "      <td>2024-07-22</td>\n",
       "      <td>6.501104</td>\n",
       "      <td>2140.0</td>\n",
       "      <td>10.936437</td>\n",
       "    </tr>\n",
       "  </tbody>\n",
       "</table>\n",
       "</div>"
      ],
      "text/plain": [
       "      startDate      miles  seconds    avg_mph\n",
       "285  2024-07-17  10.325663   3137.0  11.849661\n",
       "286  2024-07-18   5.051039   1677.0  10.843017\n",
       "287  2024-07-19   5.795308   2369.0   8.806715\n",
       "288  2024-07-21   5.849699   6583.0   3.198985\n",
       "289  2024-07-22   6.501104   2140.0  10.936437"
      ]
     },
     "execution_count": 51,
     "metadata": {},
     "output_type": "execute_result"
    }
   ],
   "source": [
    "df_date.tail()"
   ]
  },
  {
   "cell_type": "code",
   "execution_count": 62,
   "metadata": {},
   "outputs": [
    {
     "data": {
      "text/plain": [
       "<Axes: title={'center': '2024 Cycling Miles by Day'}, xlabel='startDate'>"
      ]
     },
     "execution_count": 62,
     "metadata": {},
     "output_type": "execute_result"
    },
    {
     "data": {
      "image/png": "[encoded data removed]",
      "text/plain": [
       "<Figure size 640x480 with 1 Axes>"
      ]
     },
     "metadata": {},
     "output_type": "display_data"
    }
   ],
   "source": [
    "df_date_2024 = df_date[df_date['startDate'] >= dt.date(2024, 1, 1)]\n",
    "df_date_2024.plot(x='startDate', y='miles', \n",
    "                  title='2024 Cycling Miles by Day')"
   ]
  },
  {
   "cell_type": "code",
   "execution_count": null,
   "metadata": {},
   "outputs": [],
   "source": []
  }
 ],
 "metadata": {
  "kernelspec": {
   "display_name": "dev",
   "language": "python",
   "name": "python3"
  },
  "language_info": {
   "codemirror_mode": {
    "name": "ipython",
    "version": 3
   },
   "file_extension": ".py",
   "mimetype": "text/x-python",
   "name": "python",
   "nbconvert_exporter": "python",
   "pygments_lexer": "ipython3",
   "version": "3.10.12"
  }
 },
 "nbformat": 4,
 "nbformat_minor": 2
}
