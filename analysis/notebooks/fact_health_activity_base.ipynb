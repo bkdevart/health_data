{
 "cells": [
  {
   "cell_type": "code",
   "execution_count": 46,
   "metadata": {},
   "outputs": [
    {
     "data": {
      "text/html": [
       "<div>\n",
       "<style scoped>\n",
       "    .dataframe tbody tr th:only-of-type {\n",
       "        vertical-align: middle;\n",
       "    }\n",
       "\n",
       "    .dataframe tbody tr th {\n",
       "        vertical-align: top;\n",
       "    }\n",
       "\n",
       "    .dataframe thead th {\n",
       "        text-align: right;\n",
       "    }\n",
       "</style>\n",
       "<table border=\"1\" class=\"dataframe\">\n",
       "  <thead>\n",
       "    <tr style=\"text-align: right;\">\n",
       "      <th></th>\n",
       "      <th>type</th>\n",
       "      <th>source_name</th>\n",
       "      <th>unit</th>\n",
       "      <th>creation_date</th>\n",
       "      <th>start_date</th>\n",
       "      <th>end_date</th>\n",
       "      <th>value</th>\n",
       "      <th>time_min</th>\n",
       "    </tr>\n",
       "  </thead>\n",
       "  <tbody>\n",
       "    <tr>\n",
       "      <th>0</th>\n",
       "      <td>HKQuantityTypeIdentifierHeartRate</td>\n",
       "      <td>Dimithree’s Apple Watch</td>\n",
       "      <td>count/min</td>\n",
       "      <td>2022-11-14 04:07:44-07:00</td>\n",
       "      <td>2022-11-13 22:39:20-07:00</td>\n",
       "      <td>2022-11-13 22:39:20-07:00</td>\n",
       "      <td>70.0000</td>\n",
       "      <td>0.0</td>\n",
       "    </tr>\n",
       "    <tr>\n",
       "      <th>1</th>\n",
       "      <td>HKQuantityTypeIdentifierHeartRate</td>\n",
       "      <td>Dimithree’s Apple Watch</td>\n",
       "      <td>count/min</td>\n",
       "      <td>2022-11-14 04:13:08-07:00</td>\n",
       "      <td>2022-11-14 04:11:47-07:00</td>\n",
       "      <td>2022-11-14 04:11:47-07:00</td>\n",
       "      <td>59.4325</td>\n",
       "      <td>0.0</td>\n",
       "    </tr>\n",
       "    <tr>\n",
       "      <th>2</th>\n",
       "      <td>HKQuantityTypeIdentifierHeartRate</td>\n",
       "      <td>Dimithree’s Apple Watch</td>\n",
       "      <td>count/min</td>\n",
       "      <td>2022-11-14 04:13:50-07:00</td>\n",
       "      <td>2022-11-14 04:11:16-07:00</td>\n",
       "      <td>2022-11-14 04:11:16-07:00</td>\n",
       "      <td>61.0000</td>\n",
       "      <td>0.0</td>\n",
       "    </tr>\n",
       "    <tr>\n",
       "      <th>3</th>\n",
       "      <td>HKQuantityTypeIdentifierHeartRate</td>\n",
       "      <td>Dimithree’s Apple Watch</td>\n",
       "      <td>count/min</td>\n",
       "      <td>2022-11-14 04:18:55-07:00</td>\n",
       "      <td>2022-11-14 04:14:08-07:00</td>\n",
       "      <td>2022-11-14 04:14:08-07:00</td>\n",
       "      <td>60.0000</td>\n",
       "      <td>0.0</td>\n",
       "    </tr>\n",
       "    <tr>\n",
       "      <th>4</th>\n",
       "      <td>HKQuantityTypeIdentifierHeartRate</td>\n",
       "      <td>Dimithree’s Apple Watch</td>\n",
       "      <td>count/min</td>\n",
       "      <td>2022-11-14 04:23:48-07:00</td>\n",
       "      <td>2022-11-14 04:19:58-07:00</td>\n",
       "      <td>2022-11-14 04:19:58-07:00</td>\n",
       "      <td>69.0000</td>\n",
       "      <td>0.0</td>\n",
       "    </tr>\n",
       "  </tbody>\n",
       "</table>\n",
       "</div>"
      ],
      "text/plain": [
       "                                type              source_name       unit  \\\n",
       "0  HKQuantityTypeIdentifierHeartRate  Dimithree’s Apple Watch  count/min   \n",
       "1  HKQuantityTypeIdentifierHeartRate  Dimithree’s Apple Watch  count/min   \n",
       "2  HKQuantityTypeIdentifierHeartRate  Dimithree’s Apple Watch  count/min   \n",
       "3  HKQuantityTypeIdentifierHeartRate  Dimithree’s Apple Watch  count/min   \n",
       "4  HKQuantityTypeIdentifierHeartRate  Dimithree’s Apple Watch  count/min   \n",
       "\n",
       "              creation_date                start_date  \\\n",
       "0 2022-11-14 04:07:44-07:00 2022-11-13 22:39:20-07:00   \n",
       "1 2022-11-14 04:13:08-07:00 2022-11-14 04:11:47-07:00   \n",
       "2 2022-11-14 04:13:50-07:00 2022-11-14 04:11:16-07:00   \n",
       "3 2022-11-14 04:18:55-07:00 2022-11-14 04:14:08-07:00   \n",
       "4 2022-11-14 04:23:48-07:00 2022-11-14 04:19:58-07:00   \n",
       "\n",
       "                   end_date    value  time_min  \n",
       "0 2022-11-13 22:39:20-07:00  70.0000       0.0  \n",
       "1 2022-11-14 04:11:47-07:00  59.4325       0.0  \n",
       "2 2022-11-14 04:11:16-07:00  61.0000       0.0  \n",
       "3 2022-11-14 04:14:08-07:00  60.0000       0.0  \n",
       "4 2022-11-14 04:19:58-07:00  69.0000       0.0  "
      ]
     },
     "execution_count": 46,
     "metadata": {},
     "output_type": "execute_result"
    }
   ],
   "source": [
    "from datetime import date\n",
    "import pandas as pd\n",
    "\n",
    "file = '../../tmp/fact_health_activity_base.csv'\n",
    "date_fields = ['creation_date', 'start_date', 'end_date']\n",
    "df = pd.read_csv(file, parse_dates=date_fields)\n",
    "df['time_min'] = (df['end_date'] - df['start_date']).dt.total_seconds() / 60\n",
    "df.head()"
   ]
  },
  {
   "cell_type": "code",
   "execution_count": 63,
   "metadata": {},
   "outputs": [
    {
     "data": {
      "text/html": [
       "<div>\n",
       "<style scoped>\n",
       "    .dataframe tbody tr th:only-of-type {\n",
       "        vertical-align: middle;\n",
       "    }\n",
       "\n",
       "    .dataframe tbody tr th {\n",
       "        vertical-align: top;\n",
       "    }\n",
       "\n",
       "    .dataframe thead th {\n",
       "        text-align: right;\n",
       "    }\n",
       "</style>\n",
       "<table border=\"1\" class=\"dataframe\">\n",
       "  <thead>\n",
       "    <tr style=\"text-align: right;\">\n",
       "      <th></th>\n",
       "      <th>type</th>\n",
       "      <th>source_name</th>\n",
       "      <th>unit</th>\n",
       "      <th>creation_date</th>\n",
       "      <th>start_date</th>\n",
       "      <th>end_date</th>\n",
       "      <th>value</th>\n",
       "      <th>time_min</th>\n",
       "      <th>next_start_seconds</th>\n",
       "    </tr>\n",
       "  </thead>\n",
       "  <tbody>\n",
       "    <tr>\n",
       "      <th>727804</th>\n",
       "      <td>HKQuantityTypeIdentifierBasalEnergyBurned</td>\n",
       "      <td>Dimithree’s Apple Watch</td>\n",
       "      <td>Cal</td>\n",
       "      <td>2022-11-13 19:45:05-07:00</td>\n",
       "      <td>2022-11-13 19:29:05-07:00</td>\n",
       "      <td>2022-11-13 19:43:53-07:00</td>\n",
       "      <td>17.482</td>\n",
       "      <td>14.800000</td>\n",
       "      <td>NaN</td>\n",
       "    </tr>\n",
       "    <tr>\n",
       "      <th>727805</th>\n",
       "      <td>HKQuantityTypeIdentifierBasalEnergyBurned</td>\n",
       "      <td>Dimithree’s Apple Watch</td>\n",
       "      <td>Cal</td>\n",
       "      <td>2022-11-13 19:59:54-07:00</td>\n",
       "      <td>2022-11-13 19:43:53-07:00</td>\n",
       "      <td>2022-11-13 19:58:44-07:00</td>\n",
       "      <td>15.961</td>\n",
       "      <td>14.850000</td>\n",
       "      <td>888.0</td>\n",
       "    </tr>\n",
       "    <tr>\n",
       "      <th>727806</th>\n",
       "      <td>HKQuantityTypeIdentifierBasalEnergyBurned</td>\n",
       "      <td>Dimithree’s Apple Watch</td>\n",
       "      <td>Cal</td>\n",
       "      <td>2022-11-13 20:15:15-07:00</td>\n",
       "      <td>2022-11-13 19:58:44-07:00</td>\n",
       "      <td>2022-11-13 20:13:34-07:00</td>\n",
       "      <td>17.337</td>\n",
       "      <td>14.833333</td>\n",
       "      <td>891.0</td>\n",
       "    </tr>\n",
       "    <tr>\n",
       "      <th>727807</th>\n",
       "      <td>HKQuantityTypeIdentifierBasalEnergyBurned</td>\n",
       "      <td>Dimithree’s Apple Watch</td>\n",
       "      <td>Cal</td>\n",
       "      <td>2022-11-13 20:29:35-07:00</td>\n",
       "      <td>2022-11-13 20:13:34-07:00</td>\n",
       "      <td>2022-11-13 20:28:25-07:00</td>\n",
       "      <td>15.966</td>\n",
       "      <td>14.850000</td>\n",
       "      <td>890.0</td>\n",
       "    </tr>\n",
       "    <tr>\n",
       "      <th>727808</th>\n",
       "      <td>HKQuantityTypeIdentifierBasalEnergyBurned</td>\n",
       "      <td>Dimithree’s Apple Watch</td>\n",
       "      <td>Cal</td>\n",
       "      <td>2022-11-13 20:44:36-07:00</td>\n",
       "      <td>2022-11-13 20:28:35-07:00</td>\n",
       "      <td>2022-11-13 20:43:25-07:00</td>\n",
       "      <td>14.407</td>\n",
       "      <td>14.833333</td>\n",
       "      <td>901.0</td>\n",
       "    </tr>\n",
       "  </tbody>\n",
       "</table>\n",
       "</div>"
      ],
      "text/plain": [
       "                                             type              source_name  \\\n",
       "727804  HKQuantityTypeIdentifierBasalEnergyBurned  Dimithree’s Apple Watch   \n",
       "727805  HKQuantityTypeIdentifierBasalEnergyBurned  Dimithree’s Apple Watch   \n",
       "727806  HKQuantityTypeIdentifierBasalEnergyBurned  Dimithree’s Apple Watch   \n",
       "727807  HKQuantityTypeIdentifierBasalEnergyBurned  Dimithree’s Apple Watch   \n",
       "727808  HKQuantityTypeIdentifierBasalEnergyBurned  Dimithree’s Apple Watch   \n",
       "\n",
       "       unit             creation_date                start_date  \\\n",
       "727804  Cal 2022-11-13 19:45:05-07:00 2022-11-13 19:29:05-07:00   \n",
       "727805  Cal 2022-11-13 19:59:54-07:00 2022-11-13 19:43:53-07:00   \n",
       "727806  Cal 2022-11-13 20:15:15-07:00 2022-11-13 19:58:44-07:00   \n",
       "727807  Cal 2022-11-13 20:29:35-07:00 2022-11-13 20:13:34-07:00   \n",
       "727808  Cal 2022-11-13 20:44:36-07:00 2022-11-13 20:28:35-07:00   \n",
       "\n",
       "                        end_date   value   time_min  next_start_seconds  \n",
       "727804 2022-11-13 19:43:53-07:00  17.482  14.800000                 NaN  \n",
       "727805 2022-11-13 19:58:44-07:00  15.961  14.850000               888.0  \n",
       "727806 2022-11-13 20:13:34-07:00  17.337  14.833333               891.0  \n",
       "727807 2022-11-13 20:28:25-07:00  15.966  14.850000               890.0  \n",
       "727808 2022-11-13 20:43:25-07:00  14.407  14.833333               901.0  "
      ]
     },
     "execution_count": 63,
     "metadata": {},
     "output_type": "execute_result"
    }
   ],
   "source": [
    "# TODO: calculate the difference between start times in seconds and put in own column\n",
    "df = df.sort_values(['type', 'source_name', 'start_date'])\n",
    "df['next_start_seconds'] = (df['start_date'] - df['start_date'].shift(1)).dt.total_seconds()\n",
    "df.head()"
   ]
  },
  {
   "cell_type": "code",
   "execution_count": 65,
   "metadata": {},
   "outputs": [
    {
     "ename": "AttributeError",
     "evalue": "'str' object has no attribute 'dt'",
     "output_type": "error",
     "traceback": [
      "\u001b[0;31m---------------------------------------------------------------------------\u001b[0m",
      "\u001b[0;31mAttributeError\u001b[0m                            Traceback (most recent call last)",
      "Cell \u001b[0;32mIn[65], line 2\u001b[0m\n\u001b[1;32m      1\u001b[0m \u001b[38;5;66;03m# TODO: look at seconds between start times and see what average values are by activity\u001b[39;00m\n\u001b[0;32m----> 2\u001b[0m df\u001b[38;5;241m.\u001b[39mgroupby([\u001b[38;5;124m'\u001b[39m\u001b[38;5;124mtype\u001b[39m\u001b[38;5;124m'\u001b[39m, \u001b[38;5;124m'\u001b[39m\u001b[38;5;124msource_name\u001b[39m\u001b[38;5;124m'\u001b[39m, \u001b[38;5;124;43m'\u001b[39;49m\u001b[38;5;124;43mstart_date\u001b[39;49m\u001b[38;5;124;43m'\u001b[39;49m\u001b[38;5;241;43m.\u001b[39;49m\u001b[43mdt\u001b[49m\u001b[38;5;241m.\u001b[39mdate])[\u001b[38;5;124m'\u001b[39m\u001b[38;5;124mnext_start_seconds\u001b[39m\u001b[38;5;124m'\u001b[39m]\u001b[38;5;241m.\u001b[39mmean()\n",
      "\u001b[0;31mAttributeError\u001b[0m: 'str' object has no attribute 'dt'"
     ]
    }
   ],
   "source": [
    "# TODO: look at seconds between start times and see what average values are by activity\n",
    "df.groupby(['type', 'source_name', 'start_date'])['next_start_seconds'].mean()"
   ]
  },
  {
   "cell_type": "code",
   "execution_count": 47,
   "metadata": {},
   "outputs": [
    {
     "data": {
      "text/plain": [
       "['HKQuantityTypeIdentifierHeartRate',\n",
       " 'HKQuantityTypeIdentifierStepCount',\n",
       " 'HKQuantityTypeIdentifierDistanceWalkingRunning',\n",
       " 'HKQuantityTypeIdentifierBasalEnergyBurned',\n",
       " 'HKQuantityTypeIdentifierDistanceCycling']"
      ]
     },
     "execution_count": 47,
     "metadata": {},
     "output_type": "execute_result"
    }
   ],
   "source": [
    "activity_list = df['type'].unique().tolist()\n",
    "activity_list"
   ]
  },
  {
   "cell_type": "code",
   "execution_count": 48,
   "metadata": {},
   "outputs": [
    {
     "data": {
      "text/html": [
       "<div>\n",
       "<style scoped>\n",
       "    .dataframe tbody tr th:only-of-type {\n",
       "        vertical-align: middle;\n",
       "    }\n",
       "\n",
       "    .dataframe tbody tr th {\n",
       "        vertical-align: top;\n",
       "    }\n",
       "\n",
       "    .dataframe thead th {\n",
       "        text-align: right;\n",
       "    }\n",
       "</style>\n",
       "<table border=\"1\" class=\"dataframe\">\n",
       "  <thead>\n",
       "    <tr style=\"text-align: right;\">\n",
       "      <th></th>\n",
       "      <th>start_date</th>\n",
       "      <th>source_name</th>\n",
       "      <th>value</th>\n",
       "    </tr>\n",
       "  </thead>\n",
       "  <tbody>\n",
       "    <tr>\n",
       "      <th>3608</th>\n",
       "      <td>2024-08-20</td>\n",
       "      <td>Dimithree’s Apple Watch</td>\n",
       "      <td>9.630648</td>\n",
       "    </tr>\n",
       "    <tr>\n",
       "      <th>3609</th>\n",
       "      <td>2024-08-20</td>\n",
       "      <td>Dimithree’s iphone</td>\n",
       "      <td>8.793305</td>\n",
       "    </tr>\n",
       "  </tbody>\n",
       "</table>\n",
       "</div>"
      ],
      "text/plain": [
       "      start_date              source_name     value\n",
       "3608  2024-08-20  Dimithree’s Apple Watch  9.630648\n",
       "3609  2024-08-20       Dimithree’s iphone  8.793305"
      ]
     },
     "execution_count": 48,
     "metadata": {},
     "output_type": "execute_result"
    }
   ],
   "source": [
    "walk_run = df[df['type']=='HKQuantityTypeIdentifierDistanceWalkingRunning']\n",
    "daily_walk_detail = pd.DataFrame(walk_run.groupby([walk_run['start_date'].dt.date, 'source_name'])['value'].sum()).reset_index()\n",
    "daily_walk_detail[daily_walk_detail['start_date'] == date(2024, 8, 20)]"
   ]
  },
  {
   "cell_type": "code",
   "execution_count": 49,
   "metadata": {},
   "outputs": [
    {
     "data": {
      "text/plain": [
       "start_date  source_name            \n",
       "2016-04-12  Dimithree’s iphone        2016-04-12 17:18:05-07:00\n",
       "2016-04-13  Dimithree’s iphone        2016-04-13 06:27:46-07:00\n",
       "2016-04-14  Dimithree’s iphone        2016-04-14 00:19:59-07:00\n",
       "2016-04-15  Dimithree’s iphone        2016-04-15 07:09:53-07:00\n",
       "2016-04-16  Dimithree’s iphone        2016-04-16 14:27:08-07:00\n",
       "                                                 ...           \n",
       "2024-08-23  Dimithree’s Apple Watch   2024-08-23 00:46:49-07:00\n",
       "            Dimithree’s iphone        2024-08-23 06:04:10-07:00\n",
       "2024-08-24  Dimithree’s Apple Watch   2024-08-24 02:08:03-07:00\n",
       "            Dimithree’s iphone        2024-08-24 04:11:07-07:00\n",
       "2024-08-25  Dimithree’s Apple Watch   2024-08-25 06:21:37-07:00\n",
       "Name: start_date, Length: 3619, dtype: datetime64[ns, UTC-07:00]"
      ]
     },
     "execution_count": 49,
     "metadata": {},
     "output_type": "execute_result"
    }
   ],
   "source": [
    "# TODO: take the min start, max start values for both watch and iphone and see if there is overlap\n",
    "daily_grouped = walk_run.groupby([walk_run['start_date'].dt.date, 'source_name'])\n",
    "daily_grouped['start_date'].min()"
   ]
  },
  {
   "cell_type": "code",
   "execution_count": 62,
   "metadata": {},
   "outputs": [
    {
     "ename": "TypeError",
     "evalue": "cannot subtract DatetimeArray from SeriesGroupBy",
     "output_type": "error",
     "traceback": [
      "\u001b[0;31m---------------------------------------------------------------------------\u001b[0m",
      "\u001b[0;31mTypeError\u001b[0m                                 Traceback (most recent call last)",
      "Cell \u001b[0;32mIn[62], line 6\u001b[0m\n\u001b[1;32m      4\u001b[0m test[\u001b[38;5;124m'\u001b[39m\u001b[38;5;124mtime_minutes\u001b[39m\u001b[38;5;124m'\u001b[39m] \u001b[38;5;241m=\u001b[39m daily_grouped[\u001b[38;5;124m'\u001b[39m\u001b[38;5;124mtime_min\u001b[39m\u001b[38;5;124m'\u001b[39m]\u001b[38;5;241m.\u001b[39msum()\n\u001b[1;32m      5\u001b[0m test[\u001b[38;5;124m'\u001b[39m\u001b[38;5;124mmiles\u001b[39m\u001b[38;5;124m'\u001b[39m] \u001b[38;5;241m=\u001b[39m daily_grouped[\u001b[38;5;124m'\u001b[39m\u001b[38;5;124mvalue\u001b[39m\u001b[38;5;124m'\u001b[39m]\u001b[38;5;241m.\u001b[39msum()\n\u001b[0;32m----> 6\u001b[0m test[\u001b[38;5;124m'\u001b[39m\u001b[38;5;124mnext_start_seconds\u001b[39m\u001b[38;5;124m'\u001b[39m] \u001b[38;5;241m=\u001b[39m (\u001b[43mdaily_grouped\u001b[49m\u001b[43m[\u001b[49m\u001b[38;5;124;43m'\u001b[39;49m\u001b[38;5;124;43mstart_date\u001b[39;49m\u001b[38;5;124;43m'\u001b[39;49m\u001b[43m]\u001b[49m\u001b[43m \u001b[49m\u001b[38;5;241;43m-\u001b[39;49m\u001b[43m \u001b[49m\u001b[43mdaily_grouped\u001b[49m\u001b[43m[\u001b[49m\u001b[38;5;124;43m'\u001b[39;49m\u001b[38;5;124;43mstart_date\u001b[39;49m\u001b[38;5;124;43m'\u001b[39;49m\u001b[43m]\u001b[49m\u001b[38;5;241;43m.\u001b[39;49m\u001b[43mshift\u001b[49m\u001b[43m(\u001b[49m\u001b[38;5;241;43m1\u001b[39;49m\u001b[43m)\u001b[49m)\u001b[38;5;241m.\u001b[39mdt\u001b[38;5;241m.\u001b[39mtotal_seconds()\n\u001b[1;32m      7\u001b[0m test \u001b[38;5;241m=\u001b[39m test\u001b[38;5;241m.\u001b[39mreset_index()\n\u001b[1;32m      8\u001b[0m test\u001b[38;5;241m.\u001b[39mhead()\n",
      "File \u001b[0;32m~/miniforge3/envs/dev/lib/python3.10/site-packages/pandas/core/ops/common.py:76\u001b[0m, in \u001b[0;36m_unpack_zerodim_and_defer.<locals>.new_method\u001b[0;34m(self, other)\u001b[0m\n\u001b[1;32m     72\u001b[0m             \u001b[38;5;28;01mreturn\u001b[39;00m \u001b[38;5;28mNotImplemented\u001b[39m\n\u001b[1;32m     74\u001b[0m other \u001b[38;5;241m=\u001b[39m item_from_zerodim(other)\n\u001b[0;32m---> 76\u001b[0m \u001b[38;5;28;01mreturn\u001b[39;00m \u001b[43mmethod\u001b[49m\u001b[43m(\u001b[49m\u001b[38;5;28;43mself\u001b[39;49m\u001b[43m,\u001b[49m\u001b[43m \u001b[49m\u001b[43mother\u001b[49m\u001b[43m)\u001b[49m\n",
      "File \u001b[0;32m~/miniforge3/envs/dev/lib/python3.10/site-packages/pandas/core/arraylike.py:198\u001b[0m, in \u001b[0;36mOpsMixin.__rsub__\u001b[0;34m(self, other)\u001b[0m\n\u001b[1;32m    196\u001b[0m \u001b[38;5;129m@unpack_zerodim_and_defer\u001b[39m(\u001b[38;5;124m\"\u001b[39m\u001b[38;5;124m__rsub__\u001b[39m\u001b[38;5;124m\"\u001b[39m)\n\u001b[1;32m    197\u001b[0m \u001b[38;5;28;01mdef\u001b[39;00m \u001b[38;5;21m__rsub__\u001b[39m(\u001b[38;5;28mself\u001b[39m, other):\n\u001b[0;32m--> 198\u001b[0m     \u001b[38;5;28;01mreturn\u001b[39;00m \u001b[38;5;28;43mself\u001b[39;49m\u001b[38;5;241;43m.\u001b[39;49m\u001b[43m_arith_method\u001b[49m\u001b[43m(\u001b[49m\u001b[43mother\u001b[49m\u001b[43m,\u001b[49m\u001b[43m \u001b[49m\u001b[43mroperator\u001b[49m\u001b[38;5;241;43m.\u001b[39;49m\u001b[43mrsub\u001b[49m\u001b[43m)\u001b[49m\n",
      "File \u001b[0;32m~/miniforge3/envs/dev/lib/python3.10/site-packages/pandas/core/series.py:5815\u001b[0m, in \u001b[0;36mSeries._arith_method\u001b[0;34m(self, other, op)\u001b[0m\n\u001b[1;32m   5813\u001b[0m \u001b[38;5;28;01mdef\u001b[39;00m \u001b[38;5;21m_arith_method\u001b[39m(\u001b[38;5;28mself\u001b[39m, other, op):\n\u001b[1;32m   5814\u001b[0m     \u001b[38;5;28mself\u001b[39m, other \u001b[38;5;241m=\u001b[39m \u001b[38;5;28mself\u001b[39m\u001b[38;5;241m.\u001b[39m_align_for_op(other)\n\u001b[0;32m-> 5815\u001b[0m     \u001b[38;5;28;01mreturn\u001b[39;00m \u001b[43mbase\u001b[49m\u001b[38;5;241;43m.\u001b[39;49m\u001b[43mIndexOpsMixin\u001b[49m\u001b[38;5;241;43m.\u001b[39;49m\u001b[43m_arith_method\u001b[49m\u001b[43m(\u001b[49m\u001b[38;5;28;43mself\u001b[39;49m\u001b[43m,\u001b[49m\u001b[43m \u001b[49m\u001b[43mother\u001b[49m\u001b[43m,\u001b[49m\u001b[43m \u001b[49m\u001b[43mop\u001b[49m\u001b[43m)\u001b[49m\n",
      "File \u001b[0;32m~/miniforge3/envs/dev/lib/python3.10/site-packages/pandas/core/base.py:1381\u001b[0m, in \u001b[0;36mIndexOpsMixin._arith_method\u001b[0;34m(self, other, op)\u001b[0m\n\u001b[1;32m   1378\u001b[0m     rvalues \u001b[38;5;241m=\u001b[39m np\u001b[38;5;241m.\u001b[39marange(rvalues\u001b[38;5;241m.\u001b[39mstart, rvalues\u001b[38;5;241m.\u001b[39mstop, rvalues\u001b[38;5;241m.\u001b[39mstep)\n\u001b[1;32m   1380\u001b[0m \u001b[38;5;28;01mwith\u001b[39;00m np\u001b[38;5;241m.\u001b[39merrstate(\u001b[38;5;28mall\u001b[39m\u001b[38;5;241m=\u001b[39m\u001b[38;5;124m\"\u001b[39m\u001b[38;5;124mignore\u001b[39m\u001b[38;5;124m\"\u001b[39m):\n\u001b[0;32m-> 1381\u001b[0m     result \u001b[38;5;241m=\u001b[39m \u001b[43mops\u001b[49m\u001b[38;5;241;43m.\u001b[39;49m\u001b[43marithmetic_op\u001b[49m\u001b[43m(\u001b[49m\u001b[43mlvalues\u001b[49m\u001b[43m,\u001b[49m\u001b[43m \u001b[49m\u001b[43mrvalues\u001b[49m\u001b[43m,\u001b[49m\u001b[43m \u001b[49m\u001b[43mop\u001b[49m\u001b[43m)\u001b[49m\n\u001b[1;32m   1383\u001b[0m \u001b[38;5;28;01mreturn\u001b[39;00m \u001b[38;5;28mself\u001b[39m\u001b[38;5;241m.\u001b[39m_construct_result(result, name\u001b[38;5;241m=\u001b[39mres_name)\n",
      "File \u001b[0;32m~/miniforge3/envs/dev/lib/python3.10/site-packages/pandas/core/ops/array_ops.py:275\u001b[0m, in \u001b[0;36marithmetic_op\u001b[0;34m(left, right, op)\u001b[0m\n\u001b[1;32m    262\u001b[0m \u001b[38;5;66;03m# NB: We assume that extract_array and ensure_wrapped_if_datetimelike\u001b[39;00m\n\u001b[1;32m    263\u001b[0m \u001b[38;5;66;03m#  have already been called on `left` and `right`,\u001b[39;00m\n\u001b[1;32m    264\u001b[0m \u001b[38;5;66;03m#  and `maybe_prepare_scalar_for_op` has already been called on `right`\u001b[39;00m\n\u001b[1;32m    265\u001b[0m \u001b[38;5;66;03m# We need to special-case datetime64/timedelta64 dtypes (e.g. because numpy\u001b[39;00m\n\u001b[1;32m    266\u001b[0m \u001b[38;5;66;03m# casts integer dtypes to timedelta64 when operating with timedelta64 - GH#22390)\u001b[39;00m\n\u001b[1;32m    268\u001b[0m \u001b[38;5;28;01mif\u001b[39;00m (\n\u001b[1;32m    269\u001b[0m     should_extension_dispatch(left, right)\n\u001b[1;32m    270\u001b[0m     \u001b[38;5;129;01mor\u001b[39;00m \u001b[38;5;28misinstance\u001b[39m(right, (Timedelta, BaseOffset, Timestamp))\n\u001b[0;32m   (...)\u001b[0m\n\u001b[1;32m    273\u001b[0m     \u001b[38;5;66;03m# Timedelta/Timestamp and other custom scalars are included in the check\u001b[39;00m\n\u001b[1;32m    274\u001b[0m     \u001b[38;5;66;03m# because numexpr will fail on it, see GH#31457\u001b[39;00m\n\u001b[0;32m--> 275\u001b[0m     res_values \u001b[38;5;241m=\u001b[39m \u001b[43mop\u001b[49m\u001b[43m(\u001b[49m\u001b[43mleft\u001b[49m\u001b[43m,\u001b[49m\u001b[43m \u001b[49m\u001b[43mright\u001b[49m\u001b[43m)\u001b[49m\n\u001b[1;32m    276\u001b[0m \u001b[38;5;28;01melse\u001b[39;00m:\n\u001b[1;32m    277\u001b[0m     \u001b[38;5;66;03m# TODO we should handle EAs consistently and move this check before the if/else\u001b[39;00m\n\u001b[1;32m    278\u001b[0m     \u001b[38;5;66;03m# (https://github.com/pandas-dev/pandas/issues/41165)\u001b[39;00m\n\u001b[1;32m    279\u001b[0m     \u001b[38;5;66;03m# error: Argument 2 to \"_bool_arith_check\" has incompatible type\u001b[39;00m\n\u001b[1;32m    280\u001b[0m     \u001b[38;5;66;03m# \"Union[ExtensionArray, ndarray[Any, Any]]\"; expected \"ndarray[Any, Any]\"\u001b[39;00m\n\u001b[1;32m    281\u001b[0m     _bool_arith_check(op, left, right)  \u001b[38;5;66;03m# type: ignore[arg-type]\u001b[39;00m\n",
      "File \u001b[0;32m~/miniforge3/envs/dev/lib/python3.10/site-packages/pandas/core/roperator.py:15\u001b[0m, in \u001b[0;36mrsub\u001b[0;34m(left, right)\u001b[0m\n\u001b[1;32m     14\u001b[0m \u001b[38;5;28;01mdef\u001b[39;00m \u001b[38;5;21mrsub\u001b[39m(left, right):\n\u001b[0;32m---> 15\u001b[0m     \u001b[38;5;28;01mreturn\u001b[39;00m \u001b[43mright\u001b[49m\u001b[43m \u001b[49m\u001b[38;5;241;43m-\u001b[39;49m\u001b[43m \u001b[49m\u001b[43mleft\u001b[49m\n",
      "File \u001b[0;32m~/miniforge3/envs/dev/lib/python3.10/site-packages/pandas/core/arrays/datetimelike.py:1465\u001b[0m, in \u001b[0;36mDatetimeLikeArrayMixin.__rsub__\u001b[0;34m(self, other)\u001b[0m\n\u001b[1;32m   1461\u001b[0m     \u001b[38;5;28;01mreturn\u001b[39;00m other \u001b[38;5;241m-\u001b[39m \u001b[38;5;28mself\u001b[39m\n\u001b[1;32m   1462\u001b[0m \u001b[38;5;28;01melif\u001b[39;00m \u001b[38;5;28mself\u001b[39m\u001b[38;5;241m.\u001b[39mdtype\u001b[38;5;241m.\u001b[39mkind \u001b[38;5;241m==\u001b[39m \u001b[38;5;124m\"\u001b[39m\u001b[38;5;124mM\u001b[39m\u001b[38;5;124m\"\u001b[39m \u001b[38;5;129;01mand\u001b[39;00m \u001b[38;5;28mhasattr\u001b[39m(other, \u001b[38;5;124m\"\u001b[39m\u001b[38;5;124mdtype\u001b[39m\u001b[38;5;124m\"\u001b[39m) \u001b[38;5;129;01mand\u001b[39;00m \u001b[38;5;129;01mnot\u001b[39;00m other_is_dt64:\n\u001b[1;32m   1463\u001b[0m     \u001b[38;5;66;03m# GH#19959 datetime - datetime is well-defined as timedelta,\u001b[39;00m\n\u001b[1;32m   1464\u001b[0m     \u001b[38;5;66;03m# but any other type - datetime is not well-defined.\u001b[39;00m\n\u001b[0;32m-> 1465\u001b[0m     \u001b[38;5;28;01mraise\u001b[39;00m \u001b[38;5;167;01mTypeError\u001b[39;00m(\n\u001b[1;32m   1466\u001b[0m         \u001b[38;5;124mf\u001b[39m\u001b[38;5;124m\"\u001b[39m\u001b[38;5;124mcannot subtract \u001b[39m\u001b[38;5;132;01m{\u001b[39;00m\u001b[38;5;28mtype\u001b[39m(\u001b[38;5;28mself\u001b[39m)\u001b[38;5;241m.\u001b[39m\u001b[38;5;18m__name__\u001b[39m\u001b[38;5;132;01m}\u001b[39;00m\u001b[38;5;124m from \u001b[39m\u001b[38;5;132;01m{\u001b[39;00m\u001b[38;5;28mtype\u001b[39m(other)\u001b[38;5;241m.\u001b[39m\u001b[38;5;18m__name__\u001b[39m\u001b[38;5;132;01m}\u001b[39;00m\u001b[38;5;124m\"\u001b[39m\n\u001b[1;32m   1467\u001b[0m     )\n\u001b[1;32m   1468\u001b[0m \u001b[38;5;28;01melif\u001b[39;00m \u001b[38;5;28misinstance\u001b[39m(\u001b[38;5;28mself\u001b[39m\u001b[38;5;241m.\u001b[39mdtype, PeriodDtype) \u001b[38;5;129;01mand\u001b[39;00m lib\u001b[38;5;241m.\u001b[39mis_np_dtype(other_dtype, \u001b[38;5;124m\"\u001b[39m\u001b[38;5;124mm\u001b[39m\u001b[38;5;124m\"\u001b[39m):\n\u001b[1;32m   1469\u001b[0m     \u001b[38;5;66;03m# TODO: Can we simplify/generalize these cases at all?\u001b[39;00m\n\u001b[1;32m   1470\u001b[0m     \u001b[38;5;28;01mraise\u001b[39;00m \u001b[38;5;167;01mTypeError\u001b[39;00m(\u001b[38;5;124mf\u001b[39m\u001b[38;5;124m\"\u001b[39m\u001b[38;5;124mcannot subtract \u001b[39m\u001b[38;5;132;01m{\u001b[39;00m\u001b[38;5;28mtype\u001b[39m(\u001b[38;5;28mself\u001b[39m)\u001b[38;5;241m.\u001b[39m\u001b[38;5;18m__name__\u001b[39m\u001b[38;5;132;01m}\u001b[39;00m\u001b[38;5;124m from \u001b[39m\u001b[38;5;132;01m{\u001b[39;00mother\u001b[38;5;241m.\u001b[39mdtype\u001b[38;5;132;01m}\u001b[39;00m\u001b[38;5;124m\"\u001b[39m)\n",
      "\u001b[0;31mTypeError\u001b[0m: cannot subtract DatetimeArray from SeriesGroupBy"
     ]
    }
   ],
   "source": [
    "test = pd.DataFrame()\n",
    "test['start_min'] = daily_grouped['start_date'].min()\n",
    "test['end_date'] = daily_grouped['end_date'].max()\n",
    "test['time_minutes'] = daily_grouped['time_min'].sum()\n",
    "test['miles'] = daily_grouped['value'].sum()\n",
    "test = test.reset_index()\n",
    "test.head()"
   ]
  },
  {
   "cell_type": "code",
   "execution_count": 54,
   "metadata": {},
   "outputs": [
    {
     "data": {
      "text/html": [
       "<div>\n",
       "<style scoped>\n",
       "    .dataframe tbody tr th:only-of-type {\n",
       "        vertical-align: middle;\n",
       "    }\n",
       "\n",
       "    .dataframe tbody tr th {\n",
       "        vertical-align: top;\n",
       "    }\n",
       "\n",
       "    .dataframe thead th {\n",
       "        text-align: right;\n",
       "    }\n",
       "</style>\n",
       "<table border=\"1\" class=\"dataframe\">\n",
       "  <thead>\n",
       "    <tr style=\"text-align: right;\">\n",
       "      <th></th>\n",
       "      <th>start_date</th>\n",
       "      <th>source_name</th>\n",
       "      <th>start_min</th>\n",
       "      <th>end_date</th>\n",
       "      <th>time_minutes</th>\n",
       "      <th>miles</th>\n",
       "    </tr>\n",
       "  </thead>\n",
       "  <tbody>\n",
       "    <tr>\n",
       "      <th>3608</th>\n",
       "      <td>2024-08-20</td>\n",
       "      <td>Dimithree’s Apple Watch</td>\n",
       "      <td>2024-08-20 00:14:08-07:00</td>\n",
       "      <td>2024-08-20 23:53:00-07:00</td>\n",
       "      <td>225.65</td>\n",
       "      <td>9.630648</td>\n",
       "    </tr>\n",
       "    <tr>\n",
       "      <th>3609</th>\n",
       "      <td>2024-08-20</td>\n",
       "      <td>Dimithree’s iphone</td>\n",
       "      <td>2024-08-20 05:20:49-07:00</td>\n",
       "      <td>2024-08-20 18:36:00-07:00</td>\n",
       "      <td>194.40</td>\n",
       "      <td>8.793305</td>\n",
       "    </tr>\n",
       "  </tbody>\n",
       "</table>\n",
       "</div>"
      ],
      "text/plain": [
       "      start_date              source_name                 start_min  \\\n",
       "3608  2024-08-20  Dimithree’s Apple Watch 2024-08-20 00:14:08-07:00   \n",
       "3609  2024-08-20       Dimithree’s iphone 2024-08-20 05:20:49-07:00   \n",
       "\n",
       "                      end_date  time_minutes     miles  \n",
       "3608 2024-08-20 23:53:00-07:00        225.65  9.630648  \n",
       "3609 2024-08-20 18:36:00-07:00        194.40  8.793305  "
      ]
     },
     "execution_count": 54,
     "metadata": {},
     "output_type": "execute_result"
    }
   ],
   "source": [
    "test[test['start_date'] == date(2024, 8, 20)]"
   ]
  },
  {
   "cell_type": "code",
   "execution_count": 55,
   "metadata": {},
   "outputs": [
    {
     "data": {
      "text/html": [
       "<div>\n",
       "<style scoped>\n",
       "    .dataframe tbody tr th:only-of-type {\n",
       "        vertical-align: middle;\n",
       "    }\n",
       "\n",
       "    .dataframe tbody tr th {\n",
       "        vertical-align: top;\n",
       "    }\n",
       "\n",
       "    .dataframe thead th {\n",
       "        text-align: right;\n",
       "    }\n",
       "</style>\n",
       "<table border=\"1\" class=\"dataframe\">\n",
       "  <thead>\n",
       "    <tr style=\"text-align: right;\">\n",
       "      <th></th>\n",
       "      <th>type</th>\n",
       "      <th>source_name</th>\n",
       "      <th>unit</th>\n",
       "      <th>creation_date</th>\n",
       "      <th>start_date</th>\n",
       "      <th>end_date</th>\n",
       "      <th>value</th>\n",
       "      <th>time_min</th>\n",
       "    </tr>\n",
       "  </thead>\n",
       "  <tbody>\n",
       "  </tbody>\n",
       "</table>\n",
       "</div>"
      ],
      "text/plain": [
       "Empty DataFrame\n",
       "Columns: [type, source_name, unit, creation_date, start_date, end_date, value, time_min]\n",
       "Index: []"
      ]
     },
     "execution_count": 55,
     "metadata": {},
     "output_type": "execute_result"
    }
   ],
   "source": [
    "df[df['start_date'] == date(2024, 8, 20)]"
   ]
  },
  {
   "cell_type": "code",
   "execution_count": null,
   "metadata": {},
   "outputs": [],
   "source": []
  }
 ],
 "metadata": {
  "kernelspec": {
   "display_name": "dev",
   "language": "python",
   "name": "python3"
  },
  "language_info": {
   "codemirror_mode": {
    "name": "ipython",
    "version": 3
   },
   "file_extension": ".py",
   "mimetype": "text/x-python",
   "name": "python",
   "nbconvert_exporter": "python",
   "pygments_lexer": "ipython3",
   "version": "3.10.12"
  }
 },
 "nbformat": 4,
 "nbformat_minor": 2
}
